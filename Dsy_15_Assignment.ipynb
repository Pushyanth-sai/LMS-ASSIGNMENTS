{
  "nbformat": 4,
  "nbformat_minor": 0,
  "metadata": {
    "colab": {
      "provenance": [],
      "authorship_tag": "ABX9TyPntbkJpArxFAB6LeNewgPo",
      "include_colab_link": true
    },
    "kernelspec": {
      "name": "python3",
      "display_name": "Python 3"
    },
    "language_info": {
      "name": "python"
    }
  },
  "cells": [
    {
      "cell_type": "markdown",
      "metadata": {
        "id": "view-in-github",
        "colab_type": "text"
      },
      "source": [
        "<a href=\"https://colab.research.google.com/github/Pushyanth-sai/LMS-ASSIGNMENTS/blob/main/Dsy_15_Assignment.ipynb\" target=\"_parent\"><img src=\"https://colab.research.google.com/assets/colab-badge.svg\" alt=\"Open In Colab\"/></a>"
      ]
    },
    {
      "source": [
        "from sklearn.feature_extraction.text import TfidfVectorizer\n",
        "from sklearn.metrics.pairwise import cosine_similarity\n",
        "\n",
        "def calculate_cosine_similarity(string1, string2):\n",
        "    \"\"\"Calculates the cosine similarity between two strings.\n",
        "\n",
        "    Args:\n",
        "        string1: The first string.\n",
        "        string2: The second string.\n",
        "\n",
        "    Returns:\n",
        "        The cosine similarity between the two strings.\n",
        "    \"\"\"\n",
        "    # Create a TfidfVectorizer object\n",
        "    vectorizer = TfidfVectorizer()\n",
        "\n",
        "    # Fit the vectorizer to the strings\n",
        "    tfidf_matrix = vectorizer.fit_transform([string1, string2])\n",
        "\n",
        "    # Calculate the cosine similarity\n",
        "    similarity = cosine_similarity(tfidf_matrix[0], tfidf_matrix[1])\n",
        "\n",
        "    return similarity[0][0]\n",
        "\n",
        "# Example usage\n",
        "string1 = \"This is the first string.\"\n",
        "string2 = \"This is the second string.\"\n",
        "\n",
        "similarity = calculate_cosine_similarity(string1, string2)\n",
        "\n",
        "print(f\"Cosine similarity between '{string1}' and '{string2}': {similarity}\")"
      ],
      "cell_type": "code",
      "metadata": {
        "id": "ts4ctdN2ETrr",
        "outputId": "3b1fb751-2493-4904-bf61-2f3e474b871f",
        "colab": {
          "base_uri": "https://localhost:8080/"
        }
      },
      "execution_count": 4,
      "outputs": [
        {
          "output_type": "stream",
          "name": "stdout",
          "text": [
            "Cosine similarity between 'This is the first string.' and 'This is the second string.': 0.6694188517266485\n"
          ]
        }
      ]
    }
  ]
}